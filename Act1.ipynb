{
 "cells": [
  {
   "cell_type": "code",
   "execution_count": null,
   "metadata": {},
   "outputs": [
    {
     "data": {
      "application/vnd.microsoft.datawrangler.viewer.v0+json": {
       "columns": [
        {
         "name": "Date",
         "rawType": "datetime64[ns, America/New_York]",
         "type": "unknown"
        },
        {
         "name": "Open",
         "rawType": "float64",
         "type": "float"
        },
        {
         "name": "High",
         "rawType": "float64",
         "type": "float"
        },
        {
         "name": "Low",
         "rawType": "float64",
         "type": "float"
        },
        {
         "name": "Close",
         "rawType": "float64",
         "type": "float"
        },
        {
         "name": "Volume",
         "rawType": "int64",
         "type": "integer"
        },
        {
         "name": "Dividends",
         "rawType": "float64",
         "type": "float"
        },
        {
         "name": "Stock Splits",
         "rawType": "float64",
         "type": "float"
        }
       ],
       "conversionMethod": "pd.DataFrame",
       "ref": "8bd67f77-86e8-4bde-85b6-edc861c16383",
       "rows": [
        [
         "2024-04-18 00:00:00-04:00",
         "151.25",
         "152.1999969482422",
         "148.6999969482422",
         "149.92999267578125",
         "96098800",
         "0.0",
         "0.0"
        ],
        [
         "2024-04-19 00:00:00-04:00",
         "148.97000122070312",
         "150.94000244140625",
         "146.22000122070312",
         "147.0500030517578",
         "86005100",
         "0.0",
         "0.0"
        ],
        [
         "2024-04-22 00:00:00-04:00",
         "140.55999755859375",
         "144.44000244140625",
         "138.8000030517578",
         "142.0500030517578",
         "107097600",
         "0.0",
         "0.0"
        ],
        [
         "2024-04-23 00:00:00-04:00",
         "143.3300018310547",
         "147.25999450683594",
         "141.11000061035156",
         "144.67999267578125",
         "124545100",
         "0.0",
         "0.0"
        ],
        [
         "2024-04-24 00:00:00-04:00",
         "162.83999633789062",
         "167.97000122070312",
         "157.50999450683594",
         "162.1300048828125",
         "181178000",
         "0.0",
         "0.0"
        ]
       ],
       "shape": {
        "columns": 7,
        "rows": 5
       }
      },
      "text/html": [
       "<div>\n",
       "<style scoped>\n",
       "    .dataframe tbody tr th:only-of-type {\n",
       "        vertical-align: middle;\n",
       "    }\n",
       "\n",
       "    .dataframe tbody tr th {\n",
       "        vertical-align: top;\n",
       "    }\n",
       "\n",
       "    .dataframe thead th {\n",
       "        text-align: right;\n",
       "    }\n",
       "</style>\n",
       "<table border=\"1\" class=\"dataframe\">\n",
       "  <thead>\n",
       "    <tr style=\"text-align: right;\">\n",
       "      <th></th>\n",
       "      <th>Open</th>\n",
       "      <th>High</th>\n",
       "      <th>Low</th>\n",
       "      <th>Close</th>\n",
       "      <th>Volume</th>\n",
       "      <th>Dividends</th>\n",
       "      <th>Stock Splits</th>\n",
       "    </tr>\n",
       "    <tr>\n",
       "      <th>Date</th>\n",
       "      <th></th>\n",
       "      <th></th>\n",
       "      <th></th>\n",
       "      <th></th>\n",
       "      <th></th>\n",
       "      <th></th>\n",
       "      <th></th>\n",
       "    </tr>\n",
       "  </thead>\n",
       "  <tbody>\n",
       "    <tr>\n",
       "      <th>2024-04-18 00:00:00-04:00</th>\n",
       "      <td>151.250000</td>\n",
       "      <td>152.199997</td>\n",
       "      <td>148.699997</td>\n",
       "      <td>149.929993</td>\n",
       "      <td>96098800</td>\n",
       "      <td>0.0</td>\n",
       "      <td>0.0</td>\n",
       "    </tr>\n",
       "    <tr>\n",
       "      <th>2024-04-19 00:00:00-04:00</th>\n",
       "      <td>148.970001</td>\n",
       "      <td>150.940002</td>\n",
       "      <td>146.220001</td>\n",
       "      <td>147.050003</td>\n",
       "      <td>86005100</td>\n",
       "      <td>0.0</td>\n",
       "      <td>0.0</td>\n",
       "    </tr>\n",
       "    <tr>\n",
       "      <th>2024-04-22 00:00:00-04:00</th>\n",
       "      <td>140.559998</td>\n",
       "      <td>144.440002</td>\n",
       "      <td>138.800003</td>\n",
       "      <td>142.050003</td>\n",
       "      <td>107097600</td>\n",
       "      <td>0.0</td>\n",
       "      <td>0.0</td>\n",
       "    </tr>\n",
       "    <tr>\n",
       "      <th>2024-04-23 00:00:00-04:00</th>\n",
       "      <td>143.330002</td>\n",
       "      <td>147.259995</td>\n",
       "      <td>141.110001</td>\n",
       "      <td>144.679993</td>\n",
       "      <td>124545100</td>\n",
       "      <td>0.0</td>\n",
       "      <td>0.0</td>\n",
       "    </tr>\n",
       "    <tr>\n",
       "      <th>2024-04-24 00:00:00-04:00</th>\n",
       "      <td>162.839996</td>\n",
       "      <td>167.970001</td>\n",
       "      <td>157.509995</td>\n",
       "      <td>162.130005</td>\n",
       "      <td>181178000</td>\n",
       "      <td>0.0</td>\n",
       "      <td>0.0</td>\n",
       "    </tr>\n",
       "  </tbody>\n",
       "</table>\n",
       "</div>"
      ],
      "text/plain": [
       "                                 Open        High         Low       Close  \\\n",
       "Date                                                                        \n",
       "2024-04-18 00:00:00-04:00  151.250000  152.199997  148.699997  149.929993   \n",
       "2024-04-19 00:00:00-04:00  148.970001  150.940002  146.220001  147.050003   \n",
       "2024-04-22 00:00:00-04:00  140.559998  144.440002  138.800003  142.050003   \n",
       "2024-04-23 00:00:00-04:00  143.330002  147.259995  141.110001  144.679993   \n",
       "2024-04-24 00:00:00-04:00  162.839996  167.970001  157.509995  162.130005   \n",
       "\n",
       "                              Volume  Dividends  Stock Splits  \n",
       "Date                                                           \n",
       "2024-04-18 00:00:00-04:00   96098800        0.0           0.0  \n",
       "2024-04-19 00:00:00-04:00   86005100        0.0           0.0  \n",
       "2024-04-22 00:00:00-04:00  107097600        0.0           0.0  \n",
       "2024-04-23 00:00:00-04:00  124545100        0.0           0.0  \n",
       "2024-04-24 00:00:00-04:00  181178000        0.0           0.0  "
      ]
     },
     "execution_count": 1,
     "metadata": {},
     "output_type": "execute_result"
    }
   ],
   "source": [
    "import yfinance as yf\n",
    "\n",
    "tesla = yf.Ticker(\"TSLA\")\n",
    "tesla_hist = tesla.history(period=\"1y\") \n",
    "\n",
    "tesla_hist.head()\n"
   ]
  },
  {
   "cell_type": "code",
   "execution_count": 3,
   "metadata": {},
   "outputs": [
    {
     "name": "stderr",
     "output_type": "stream",
     "text": [
      "C:\\Users\\great\\AppData\\Local\\Temp\\ipykernel_2744\\2213942268.py:14: FutureWarning: Passing literal html to 'read_html' is deprecated and will be removed in a future version. To read from a literal string, wrap it in a 'StringIO' object.\n",
      "  df_tesla_revenue = pd.read_html(str(table))[0]\n"
     ]
    },
    {
     "data": {
      "application/vnd.microsoft.datawrangler.viewer.v0+json": {
       "columns": [
        {
         "name": "index",
         "rawType": "int64",
         "type": "integer"
        },
        {
         "name": "Fecha",
         "rawType": "object",
         "type": "string"
        },
        {
         "name": "Ingresos",
         "rawType": "object",
         "type": "string"
        }
       ],
       "conversionMethod": "pd.DataFrame",
       "ref": "fa656a9f-68b9-4e59-8f86-c2d678f36a48",
       "rows": [
        [
         "57",
         "2010-09-30",
         "$31"
        ],
        [
         "58",
         "2010-06-30",
         "$28"
        ],
        [
         "59",
         "2010-03-31",
         "$21"
        ],
        [
         "61",
         "2009-09-30",
         "$46"
        ],
        [
         "62",
         "2009-06-30",
         "$27"
        ]
       ],
       "shape": {
        "columns": 2,
        "rows": 5
       }
      },
      "text/html": [
       "<div>\n",
       "<style scoped>\n",
       "    .dataframe tbody tr th:only-of-type {\n",
       "        vertical-align: middle;\n",
       "    }\n",
       "\n",
       "    .dataframe tbody tr th {\n",
       "        vertical-align: top;\n",
       "    }\n",
       "\n",
       "    .dataframe thead th {\n",
       "        text-align: right;\n",
       "    }\n",
       "</style>\n",
       "<table border=\"1\" class=\"dataframe\">\n",
       "  <thead>\n",
       "    <tr style=\"text-align: right;\">\n",
       "      <th></th>\n",
       "      <th>Fecha</th>\n",
       "      <th>Ingresos</th>\n",
       "    </tr>\n",
       "  </thead>\n",
       "  <tbody>\n",
       "    <tr>\n",
       "      <th>57</th>\n",
       "      <td>2010-09-30</td>\n",
       "      <td>$31</td>\n",
       "    </tr>\n",
       "    <tr>\n",
       "      <th>58</th>\n",
       "      <td>2010-06-30</td>\n",
       "      <td>$28</td>\n",
       "    </tr>\n",
       "    <tr>\n",
       "      <th>59</th>\n",
       "      <td>2010-03-31</td>\n",
       "      <td>$21</td>\n",
       "    </tr>\n",
       "    <tr>\n",
       "      <th>61</th>\n",
       "      <td>2009-09-30</td>\n",
       "      <td>$46</td>\n",
       "    </tr>\n",
       "    <tr>\n",
       "      <th>62</th>\n",
       "      <td>2009-06-30</td>\n",
       "      <td>$27</td>\n",
       "    </tr>\n",
       "  </tbody>\n",
       "</table>\n",
       "</div>"
      ],
      "text/plain": [
       "         Fecha Ingresos\n",
       "57  2010-09-30      $31\n",
       "58  2010-06-30      $28\n",
       "59  2010-03-31      $21\n",
       "61  2009-09-30      $46\n",
       "62  2009-06-30      $27"
      ]
     },
     "execution_count": 3,
     "metadata": {},
     "output_type": "execute_result"
    }
   ],
   "source": [
    "import requests\n",
    "from bs4 import BeautifulSoup\n",
    "import pandas as pd\n",
    "\n",
    "url = \"https://www.macrotrends.net/stocks/charts/TSLA/tesla/revenue\"\n",
    "headers = {\"User-Agent\": \"Mozilla/5.0\"}\n",
    "\n",
    "res = requests.get(url, headers=headers)\n",
    "soup = BeautifulSoup(res.text, \"html.parser\")\n",
    "\n",
    "tables = soup.find_all(\"table\")\n",
    "for table in tables:\n",
    "    if \"Tesla Quarterly Revenue\" in str(table):\n",
    "        df_tesla_revenue = pd.read_html(str(table))[0]\n",
    "        break\n",
    "\n",
    "df_tesla_revenue.columns = [\"Fecha\", \"Ingresos\"]\n",
    "\n",
    "df_tesla_revenue = df_tesla_revenue.dropna()\n",
    "df_tesla_revenue = df_tesla_revenue[df_tesla_revenue[\"Ingresos\"] != \"\"]\n",
    "\n",
    "df_tesla_revenue.tail()"
   ]
  },
  {
   "cell_type": "code",
   "execution_count": null,
   "metadata": {},
   "outputs": [
    {
     "data": {
      "application/vnd.microsoft.datawrangler.viewer.v0+json": {
       "columns": [
        {
         "name": "index",
         "rawType": "int64",
         "type": "integer"
        },
        {
         "name": "Date",
         "rawType": "datetime64[ns, America/New_York]",
         "type": "unknown"
        },
        {
         "name": "Open",
         "rawType": "float64",
         "type": "float"
        },
        {
         "name": "High",
         "rawType": "float64",
         "type": "float"
        },
        {
         "name": "Low",
         "rawType": "float64",
         "type": "float"
        },
        {
         "name": "Close",
         "rawType": "float64",
         "type": "float"
        },
        {
         "name": "Volume",
         "rawType": "int64",
         "type": "integer"
        },
        {
         "name": "Dividends",
         "rawType": "float64",
         "type": "float"
        },
        {
         "name": "Stock Splits",
         "rawType": "float64",
         "type": "float"
        }
       ],
       "conversionMethod": "pd.DataFrame",
       "ref": "5448850b-1a95-4084-a8ac-a438ab6eef74",
       "rows": [
        [
         "0",
         "2024-04-18 00:00:00-04:00",
         "10.319999694824219",
         "10.630000114440918",
         "10.270000457763672",
         "10.3100004196167",
         "2175400",
         "0.0",
         "0.0"
        ],
        [
         "1",
         "2024-04-19 00:00:00-04:00",
         "10.199999809265137",
         "10.5",
         "10.199999809265137",
         "10.420000076293945",
         "2455100",
         "0.0",
         "0.0"
        ],
        [
         "2",
         "2024-04-22 00:00:00-04:00",
         "10.40999984741211",
         "10.449999809265137",
         "10.010000228881836",
         "10.010000228881836",
         "3261000",
         "0.0",
         "0.0"
        ],
        [
         "3",
         "2024-04-23 00:00:00-04:00",
         "10.050000190734863",
         "10.279999732971191",
         "10.010000228881836",
         "10.15999984741211",
         "2511800",
         "0.0",
         "0.0"
        ],
        [
         "4",
         "2024-04-24 00:00:00-04:00",
         "10.15999984741211",
         "10.9399995803833",
         "10.15999984741211",
         "10.930000305175781",
         "4829600",
         "0.0",
         "0.0"
        ]
       ],
       "shape": {
        "columns": 8,
        "rows": 5
       }
      },
      "text/html": [
       "<div>\n",
       "<style scoped>\n",
       "    .dataframe tbody tr th:only-of-type {\n",
       "        vertical-align: middle;\n",
       "    }\n",
       "\n",
       "    .dataframe tbody tr th {\n",
       "        vertical-align: top;\n",
       "    }\n",
       "\n",
       "    .dataframe thead th {\n",
       "        text-align: right;\n",
       "    }\n",
       "</style>\n",
       "<table border=\"1\" class=\"dataframe\">\n",
       "  <thead>\n",
       "    <tr style=\"text-align: right;\">\n",
       "      <th></th>\n",
       "      <th>Date</th>\n",
       "      <th>Open</th>\n",
       "      <th>High</th>\n",
       "      <th>Low</th>\n",
       "      <th>Close</th>\n",
       "      <th>Volume</th>\n",
       "      <th>Dividends</th>\n",
       "      <th>Stock Splits</th>\n",
       "    </tr>\n",
       "  </thead>\n",
       "  <tbody>\n",
       "    <tr>\n",
       "      <th>0</th>\n",
       "      <td>2024-04-18 00:00:00-04:00</td>\n",
       "      <td>10.32</td>\n",
       "      <td>10.63</td>\n",
       "      <td>10.27</td>\n",
       "      <td>10.31</td>\n",
       "      <td>2175400</td>\n",
       "      <td>0.0</td>\n",
       "      <td>0.0</td>\n",
       "    </tr>\n",
       "    <tr>\n",
       "      <th>1</th>\n",
       "      <td>2024-04-19 00:00:00-04:00</td>\n",
       "      <td>10.20</td>\n",
       "      <td>10.50</td>\n",
       "      <td>10.20</td>\n",
       "      <td>10.42</td>\n",
       "      <td>2455100</td>\n",
       "      <td>0.0</td>\n",
       "      <td>0.0</td>\n",
       "    </tr>\n",
       "    <tr>\n",
       "      <th>2</th>\n",
       "      <td>2024-04-22 00:00:00-04:00</td>\n",
       "      <td>10.41</td>\n",
       "      <td>10.45</td>\n",
       "      <td>10.01</td>\n",
       "      <td>10.01</td>\n",
       "      <td>3261000</td>\n",
       "      <td>0.0</td>\n",
       "      <td>0.0</td>\n",
       "    </tr>\n",
       "    <tr>\n",
       "      <th>3</th>\n",
       "      <td>2024-04-23 00:00:00-04:00</td>\n",
       "      <td>10.05</td>\n",
       "      <td>10.28</td>\n",
       "      <td>10.01</td>\n",
       "      <td>10.16</td>\n",
       "      <td>2511800</td>\n",
       "      <td>0.0</td>\n",
       "      <td>0.0</td>\n",
       "    </tr>\n",
       "    <tr>\n",
       "      <th>4</th>\n",
       "      <td>2024-04-24 00:00:00-04:00</td>\n",
       "      <td>10.16</td>\n",
       "      <td>10.94</td>\n",
       "      <td>10.16</td>\n",
       "      <td>10.93</td>\n",
       "      <td>4829600</td>\n",
       "      <td>0.0</td>\n",
       "      <td>0.0</td>\n",
       "    </tr>\n",
       "  </tbody>\n",
       "</table>\n",
       "</div>"
      ],
      "text/plain": [
       "                       Date   Open   High    Low  Close   Volume  Dividends  \\\n",
       "0 2024-04-18 00:00:00-04:00  10.32  10.63  10.27  10.31  2175400        0.0   \n",
       "1 2024-04-19 00:00:00-04:00  10.20  10.50  10.20  10.42  2455100        0.0   \n",
       "2 2024-04-22 00:00:00-04:00  10.41  10.45  10.01  10.01  3261000        0.0   \n",
       "3 2024-04-23 00:00:00-04:00  10.05  10.28  10.01  10.16  2511800        0.0   \n",
       "4 2024-04-24 00:00:00-04:00  10.16  10.94  10.16  10.93  4829600        0.0   \n",
       "\n",
       "   Stock Splits  \n",
       "0           0.0  \n",
       "1           0.0  \n",
       "2           0.0  \n",
       "3           0.0  \n",
       "4           0.0  "
      ]
     },
     "execution_count": 4,
     "metadata": {},
     "output_type": "execute_result"
    }
   ],
   "source": [
    "gme = yf.Ticker(\"GME\")\n",
    "gme_data = gme.history(period=\"1y\")\n",
    "\n",
    "gme_data = gme_data.reset_index()\n",
    "\n",
    "gme_data.head()\n"
   ]
  },
  {
   "cell_type": "code",
   "execution_count": 5,
   "metadata": {},
   "outputs": [
    {
     "name": "stderr",
     "output_type": "stream",
     "text": [
      "C:\\Users\\great\\AppData\\Local\\Temp\\ipykernel_2744\\2897378399.py:15: FutureWarning: Passing literal html to 'read_html' is deprecated and will be removed in a future version. To read from a literal string, wrap it in a 'StringIO' object.\n",
      "  df_gme_revenue = pd.read_html(str(table))[0]\n"
     ]
    },
    {
     "data": {
      "application/vnd.microsoft.datawrangler.viewer.v0+json": {
       "columns": [
        {
         "name": "index",
         "rawType": "int64",
         "type": "integer"
        },
        {
         "name": "Fecha",
         "rawType": "object",
         "type": "string"
        },
        {
         "name": "Ingresos",
         "rawType": "object",
         "type": "string"
        }
       ],
       "conversionMethod": "pd.DataFrame",
       "ref": "0105cb29-1f46-4564-9f14-e1e96b022e96",
       "rows": [
        [
         "60",
         "2010-01-31",
         "$3,524"
        ],
        [
         "61",
         "2009-10-31",
         "$1,835"
        ],
        [
         "62",
         "2009-07-31",
         "$1,739"
        ],
        [
         "63",
         "2009-04-30",
         "$1,981"
        ],
        [
         "64",
         "2009-01-31",
         "$3,492"
        ]
       ],
       "shape": {
        "columns": 2,
        "rows": 5
       }
      },
      "text/html": [
       "<div>\n",
       "<style scoped>\n",
       "    .dataframe tbody tr th:only-of-type {\n",
       "        vertical-align: middle;\n",
       "    }\n",
       "\n",
       "    .dataframe tbody tr th {\n",
       "        vertical-align: top;\n",
       "    }\n",
       "\n",
       "    .dataframe thead th {\n",
       "        text-align: right;\n",
       "    }\n",
       "</style>\n",
       "<table border=\"1\" class=\"dataframe\">\n",
       "  <thead>\n",
       "    <tr style=\"text-align: right;\">\n",
       "      <th></th>\n",
       "      <th>Fecha</th>\n",
       "      <th>Ingresos</th>\n",
       "    </tr>\n",
       "  </thead>\n",
       "  <tbody>\n",
       "    <tr>\n",
       "      <th>60</th>\n",
       "      <td>2010-01-31</td>\n",
       "      <td>$3,524</td>\n",
       "    </tr>\n",
       "    <tr>\n",
       "      <th>61</th>\n",
       "      <td>2009-10-31</td>\n",
       "      <td>$1,835</td>\n",
       "    </tr>\n",
       "    <tr>\n",
       "      <th>62</th>\n",
       "      <td>2009-07-31</td>\n",
       "      <td>$1,739</td>\n",
       "    </tr>\n",
       "    <tr>\n",
       "      <th>63</th>\n",
       "      <td>2009-04-30</td>\n",
       "      <td>$1,981</td>\n",
       "    </tr>\n",
       "    <tr>\n",
       "      <th>64</th>\n",
       "      <td>2009-01-31</td>\n",
       "      <td>$3,492</td>\n",
       "    </tr>\n",
       "  </tbody>\n",
       "</table>\n",
       "</div>"
      ],
      "text/plain": [
       "         Fecha Ingresos\n",
       "60  2010-01-31   $3,524\n",
       "61  2009-10-31   $1,835\n",
       "62  2009-07-31   $1,739\n",
       "63  2009-04-30   $1,981\n",
       "64  2009-01-31   $3,492"
      ]
     },
     "execution_count": 5,
     "metadata": {},
     "output_type": "execute_result"
    }
   ],
   "source": [
    "import requests\n",
    "from bs4 import BeautifulSoup\n",
    "import pandas as pd\n",
    "\n",
    "url = \"https://www.macrotrends.net/stocks/charts/GME/gamestop/revenue\"\n",
    "headers = {\"User-Agent\": \"Mozilla/5.0\"}\n",
    "\n",
    "response = requests.get(url, headers=headers)\n",
    "soup = BeautifulSoup(response.text, \"html.parser\")\n",
    "\n",
    "tables = soup.find_all(\"table\")\n",
    "\n",
    "for table in tables:\n",
    "    if \"GameStop Quarterly Revenue\" in str(table):\n",
    "        df_gme_revenue = pd.read_html(str(table))[0]\n",
    "        break\n",
    "\n",
    "df_gme_revenue.columns = [\"Fecha\", \"Ingresos\"]\n",
    "\n",
    "df_gme_revenue = df_gme_revenue.dropna()\n",
    "df_gme_revenue = df_gme_revenue[df_gme_revenue[\"Ingresos\"] != \"\"]\n",
    "\n",
    "df_gme_revenue.tail()\n"
   ]
  },
  {
   "cell_type": "code",
   "execution_count": null,
   "metadata": {},
   "outputs": [
    {
     "data": {
      "image/png": "[encoded data removed]",
      "text/plain": [
       "<Figure size 1200x600 with 1 Axes>"
      ]
     },
     "metadata": {},
     "output_type": "display_data"
    }
   ],
   "source": [
    "\n",
    "import yfinance as yf\n",
    "import matplotlib.pyplot as plt\n",
    "\n",
    "tesla = yf.Ticker(\"TSLA\")\n",
    "tesla_data = tesla.history(period=\"1y\")\n",
    "tesla_data = tesla_data.reset_index()\n",
    "\n",
    "def make_graph(data, title):\n",
    "    plt.figure(figsize=(12,6))\n",
    "    plt.plot(data['Date'], data['Close'], label='Precio de Cierre', color='blue')\n",
    "    plt.title(title)\n",
    "    plt.xlabel(\"Fecha\")\n",
    "    plt.ylabel(\"Precio (USD)\")\n",
    "    plt.grid(True)\n",
    "    plt.legend()\n",
    "    plt.show()\n",
    "tesla_data = tesla_data.reset_index()\n",
    "\n",
    "make_graph(tesla_data, \"Precio de Cierre de las Acciones de Tesla (Último Año)\")\n"
   ]
  },
  {
   "cell_type": "code",
   "execution_count": 6,
   "metadata": {},
   "outputs": [
    {
     "data": {
      "image/png": "[encoded data removed]",
      "text/plain": [
       "<Figure size 1200x600 with 1 Axes>"
      ]
     },
     "metadata": {},
     "output_type": "display_data"
    }
   ],
   "source": [
    "import yfinance as yf\n",
    "import matplotlib.pyplot as plt\n",
    "\n",
    "gme = yf.Ticker(\"GME\")\n",
    "gme_data = gme.history(period=\"1y\")\n",
    "gme_data = gme_data.reset_index()\n",
    "\n",
    "def make_graph(data, title):\n",
    "    plt.figure(figsize=(12,6))\n",
    "    plt.plot(data['Date'], data['Close'], label='Precio de Cierre', color='green')\n",
    "    plt.title(title)\n",
    "    plt.xlabel(\"Fecha\")\n",
    "    plt.ylabel(\"Precio (USD)\")\n",
    "    plt.grid(True)\n",
    "    plt.legend()\n",
    "    plt.show()\n",
    "gme_data = gme_data.reset_index()\n",
    "\n",
    "make_graph(gme_data, \"Precio de Cierre de las Acciones de GameStop (Último Año)\")\n",
    "\n"
   ]
  }
 ],
 "metadata": {
  "kernelspec": {
   "display_name": "RP_Env",
   "language": "python",
   "name": "python3"
  },
  "language_info": {
   "codemirror_mode": {
    "name": "ipython",
    "version": 3
   },
   "file_extension": ".py",
   "mimetype": "text/x-python",
   "name": "python",
   "nbconvert_exporter": "python",
   "pygments_lexer": "ipython3",
   "version": "3.12.9"
  }
 },
 "nbformat": 4,
 "nbformat_minor": 2
}
